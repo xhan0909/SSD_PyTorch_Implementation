{
 "cells": [
  {
   "cell_type": "code",
   "execution_count": 1,
   "metadata": {
    "ExecuteTime": {
     "end_time": "2019-02-12T17:56:14.879464Z",
     "start_time": "2019-02-12T17:56:14.645174Z"
    }
   },
   "outputs": [],
   "source": [
    "%matplotlib inline\n",
    "%reload_ext autoreload\n",
    "%autoreload 2"
   ]
  },
  {
   "cell_type": "code",
   "execution_count": 2,
   "metadata": {
    "ExecuteTime": {
     "end_time": "2019-02-12T17:56:16.024286Z",
     "start_time": "2019-02-12T17:56:15.504916Z"
    }
   },
   "outputs": [],
   "source": [
    "import matplotlib.pyplot as plt\n",
    "import pandas as pd\n",
    "import numpy as np\n",
    "\n",
    "import torch\n",
    "import torch.autograd as autograd\n",
    "import torch.nn as nn\n",
    "import torch.nn.functional as F\n",
    "import torch.optim as optim\n",
    "from torchvision import models\n",
    "from torch.utils.data import DataLoader, Dataset"
   ]
  },
  {
   "cell_type": "markdown",
   "metadata": {},
   "source": [
    "# Learning rate"
   ]
  },
  {
   "cell_type": "markdown",
   "metadata": {},
   "source": [
    "## Triangular"
   ]
  },
  {
   "cell_type": "code",
   "execution_count": 3,
   "metadata": {
    "ExecuteTime": {
     "end_time": "2019-02-12T17:56:17.092044Z",
     "start_time": "2019-02-12T17:56:17.068920Z"
    }
   },
   "outputs": [],
   "source": [
    "lr_optimal = 1e-2\n",
    "div_factor = 25\n",
    "iterations = 400\n",
    "\n",
    "iter1 = int(0.45 * iterations)\n",
    "iter2 = int(1.0 * iter1)\n",
    "iter3 = iterations - iter1 - iter2\n",
    "\n",
    "lr_low = lr_optimal/div_factor\n",
    "lr_high = lr_optimal\n",
    "\n",
    "delta_1 = (lr_high - lr_low) / iter1\n",
    "delta_2 = (lr_high - lr_low) / (iter2 - 1)\n",
    "lrs1 = [lr_low + i * delta_1 for i in range(iter1)]\n",
    "lrs2 = [lr_high - i * delta_2 for i in range(0, iter2)]\n",
    "delta_3 = (lrs2[-1] - lr_low / 100) / iter3\n",
    "lrs3 = [lrs2[-1] - i * delta_3 for i in range(1, iter3 + 1)]\n",
    "\n",
    "out_lr = lrs1 + lrs2 + lrs3"
   ]
  },
  {
   "cell_type": "code",
   "execution_count": 4,
   "metadata": {
    "ExecuteTime": {
     "end_time": "2019-02-12T17:56:17.889873Z",
     "start_time": "2019-02-12T17:56:17.754041Z"
    }
   },
   "outputs": [
    {
     "data": {
      "image/png": "[encoded data removed]",
      "text/plain": [
       "<Figure size 432x288 with 1 Axes>"
      ]
     },
     "metadata": {
      "needs_background": "light"
     },
     "output_type": "display_data"
    }
   ],
   "source": [
    "plt.plot(out_lr)\n",
    "plt.show()"
   ]
  },
  {
   "cell_type": "markdown",
   "metadata": {},
   "source": [
    "## Triangular + Cosine Annealing"
   ]
  },
  {
   "cell_type": "code",
   "execution_count": 5,
   "metadata": {
    "ExecuteTime": {
     "end_time": "2019-02-12T17:56:19.835332Z",
     "start_time": "2019-02-12T17:56:19.817432Z"
    }
   },
   "outputs": [],
   "source": [
    "def annealing_cos_phase2(start, end, pct=0.35):\n",
    "    \"Cosine anneal from `start` to `end` as pct goes from 0.0 to 1.0.\"\n",
    "    cos_out = np.cos(np.pi * pct) + 1\n",
    "    return end + (start - end)/2 * cos_out"
   ]
  },
  {
   "cell_type": "code",
   "execution_count": 99,
   "metadata": {
    "ExecuteTime": {
     "end_time": "2019-02-12T09:36:48.357460Z",
     "start_time": "2019-02-12T09:36:48.344061Z"
    }
   },
   "outputs": [],
   "source": [
    "lr_optimal = 1e-2\n",
    "div_factor = 25\n",
    "pct_start = 0.35\n",
    "tot_epochs = 4\n",
    "\n",
    "iterations = len(train_dl) * tot_epochs\n",
    "iter1 = int(pct_start * iterations)\n",
    "iter2 = iterations - iter1\n",
    "\n",
    "lr_max = lr_optimal\n",
    "lr_low = lr_max/div_factor\n",
    "\n",
    "lrs1 = annealing_cos(lr_low, lr_max, pct_start)\n",
    "lrs1 = annealing_cos(lr_max, lr_low/1e4)\n",
    "lr_low = lr_optimal/div_factor\n",
    "lr_high = lr_optimal\n",
    "\n",
    "\n",
    "\n",
    "out_lr = lrs1 + lrs2"
   ]
  },
  {
   "cell_type": "code",
   "execution_count": null,
   "metadata": {},
   "outputs": [],
   "source": [
    "plt.plot(out_lr)\n",
    "plt.show()"
   ]
  },
  {
   "cell_type": "markdown",
   "metadata": {},
   "source": [
    "# Momentum"
   ]
  },
  {
   "cell_type": "code",
   "execution_count": 6,
   "metadata": {
    "ExecuteTime": {
     "end_time": "2019-02-12T17:56:22.890901Z",
     "start_time": "2019-02-12T17:56:22.869508Z"
    }
   },
   "outputs": [],
   "source": [
    "mom_low = 0.85\n",
    "mom_high = 0.95\n",
    "step_size = 40\n",
    "\n",
    "iterations = 10 * step_size\n",
    "iter1 = int(0.45 * iterations)\n",
    "iter2 = int(1.0 * iter1)\n",
    "iter3 = iterations - iter1 - iter2\n",
    "\n",
    "delta_1 = (mom_high - mom_low) / iter1\n",
    "delta_2 = (mom_high - mom_low) / (iter2 - 1)\n",
    "moms1 = [mom_high - i * delta_1 for i in range(iter1)]\n",
    "moms2 = [mom_low + i * delta_2 for i in range(0, iter2)]\n",
    "moms3 = [moms2[-1] for i in range(1, iter3 + 1)]\n",
    "\n",
    "out = moms1 + moms2 + moms3"
   ]
  },
  {
   "cell_type": "code",
   "execution_count": 7,
   "metadata": {
    "ExecuteTime": {
     "end_time": "2019-02-12T17:56:23.281550Z",
     "start_time": "2019-02-12T17:56:23.165253Z"
    }
   },
   "outputs": [
    {
     "data": {
      "image/png": "[encoded data removed]",
      "text/plain": [
       "<Figure size 432x288 with 1 Axes>"
      ]
     },
     "metadata": {
      "needs_background": "light"
     },
     "output_type": "display_data"
    }
   ],
   "source": [
    "plt.plot(out)\n",
    "plt.ylim(0.84, 0.96)\n",
    "plt.show()"
   ]
  },
  {
   "cell_type": "code",
   "execution_count": null,
   "metadata": {},
   "outputs": [],
   "source": []
  }
 ],
 "metadata": {
  "kernelspec": {
   "display_name": "Python 3",
   "language": "python",
   "name": "python3"
  },
  "language_info": {
   "codemirror_mode": {
    "name": "ipython",
    "version": 3
   },
   "file_extension": ".py",
   "mimetype": "text/x-python",
   "name": "python",
   "nbconvert_exporter": "python",
   "pygments_lexer": "ipython3",
   "version": "3.7.1"
  },
  "toc": {
   "base_numbering": 1,
   "nav_menu": {},
   "number_sections": true,
   "sideBar": true,
   "skip_h1_title": false,
   "title_cell": "Table of Contents",
   "title_sidebar": "Contents",
   "toc_cell": false,
   "toc_position": {},
   "toc_section_display": true,
   "toc_window_display": false
  },
  "varInspector": {
   "cols": {
    "lenName": 16,
    "lenType": 16,
    "lenVar": 40
   },
   "kernels_config": {
    "python": {
     "delete_cmd_postfix": "",
     "delete_cmd_prefix": "del ",
     "library": "var_list.py",
     "varRefreshCmd": "print(var_dic_list())"
    },
    "r": {
     "delete_cmd_postfix": ") ",
     "delete_cmd_prefix": "rm(",
     "library": "var_list.r",
     "varRefreshCmd": "cat(var_dic_list()) "
    }
   },
   "types_to_exclude": [
    "module",
    "function",
    "builtin_function_or_method",
    "instance",
    "_Feature"
   ],
   "window_display": false
  }
 },
 "nbformat": 4,
 "nbformat_minor": 2
}
