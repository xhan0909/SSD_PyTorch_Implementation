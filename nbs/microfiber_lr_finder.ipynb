{
 "cells": [
  {
   "cell_type": "code",
   "execution_count": 1,
   "metadata": {
    "ExecuteTime": {
     "end_time": "2019-05-01T23:43:00.860102Z",
     "start_time": "2019-05-01T23:43:00.610519Z"
    }
   },
   "outputs": [],
   "source": [
    "%matplotlib inline\n",
    "%reload_ext autoreload\n",
    "%autoreload 2"
   ]
  },
  {
   "cell_type": "code",
   "execution_count": 2,
   "metadata": {
    "ExecuteTime": {
     "end_time": "2019-05-01T23:43:01.393632Z",
     "start_time": "2019-05-01T23:43:00.866159Z"
    }
   },
   "outputs": [],
   "source": [
    "import random\n",
    "import pandas as pd\n",
    "from pathlib import Path\n",
    "from torch.utils.data import DataLoader"
   ]
  },
  {
   "cell_type": "code",
   "execution_count": 3,
   "metadata": {
    "ExecuteTime": {
     "end_time": "2019-05-01T23:43:01.679761Z",
     "start_time": "2019-05-01T23:43:01.396544Z"
    }
   },
   "outputs": [],
   "source": [
    "from src.utils.__utils__ import *\n",
    "from src.ssd.ssd_model import *\n",
    "from src.dataset.VOC_dataset import *\n",
    "from src.config.prior_box_cfg_SSD300 import *\n",
    "from src.transform import __imgtools__, __boxtools__, augmentation\n",
    "from src.ssd import ssd_prior\n",
    "from src.train.one_cycle_multi import *\n",
    "from src.config import prior_box_cfg_SSD300 as config\n",
    "from src.ssd.ssd_preprocessing import TrainTransform, ValidTransform"
   ]
  },
  {
   "cell_type": "code",
   "execution_count": 4,
   "metadata": {
    "ExecuteTime": {
     "end_time": "2019-05-01T23:43:01.728086Z",
     "start_time": "2019-05-01T23:43:01.682932Z"
    }
   },
   "outputs": [],
   "source": [
    "img_size = 300\n",
    "batch_size = 32"
   ]
  },
  {
   "cell_type": "code",
   "execution_count": 5,
   "metadata": {
    "ExecuteTime": {
     "end_time": "2019-05-01T23:43:01.845228Z",
     "start_time": "2019-05-01T23:43:01.730369Z"
    }
   },
   "outputs": [],
   "source": [
    "torch.cuda.set_device(2)"
   ]
  },
  {
   "cell_type": "markdown",
   "metadata": {},
   "source": [
    "# Load data"
   ]
  },
  {
   "cell_type": "code",
   "execution_count": 6,
   "metadata": {
    "ExecuteTime": {
     "end_time": "2019-05-01T23:43:01.919879Z",
     "start_time": "2019-05-01T23:43:01.847255Z"
    }
   },
   "outputs": [],
   "source": [
    "IMG_PATH = Path('/data/xhan/Dropbox/USF MantaRay Data Share/resized_300')"
   ]
  },
  {
   "cell_type": "code",
   "execution_count": 7,
   "metadata": {
    "ExecuteTime": {
     "end_time": "2019-05-01T23:43:02.285296Z",
     "start_time": "2019-05-01T23:43:01.921734Z"
    }
   },
   "outputs": [],
   "source": [
    "train_bbox_multi_df = pd.read_csv('./data/train_anno.csv')\n",
    "val_bbox_multi_df = pd.read_csv('./data/val_anno.csv')"
   ]
  },
  {
   "cell_type": "code",
   "execution_count": 8,
   "metadata": {
    "ExecuteTime": {
     "end_time": "2019-05-01T23:43:02.341683Z",
     "start_time": "2019-05-01T23:43:02.287462Z"
    }
   },
   "outputs": [
    {
     "data": {
      "text/html": [
       "<div>\n",
       "<style scoped>\n",
       "    .dataframe tbody tr th:only-of-type {\n",
       "        vertical-align: middle;\n",
       "    }\n",
       "\n",
       "    .dataframe tbody tr th {\n",
       "        vertical-align: top;\n",
       "    }\n",
       "\n",
       "    .dataframe thead th {\n",
       "        text-align: right;\n",
       "    }\n",
       "</style>\n",
       "<table border=\"1\" class=\"dataframe\">\n",
       "  <thead>\n",
       "    <tr style=\"text-align: right;\">\n",
       "      <th></th>\n",
       "      <th>fn_orig</th>\n",
       "      <th>fn_new</th>\n",
       "      <th>label</th>\n",
       "      <th>bbox</th>\n",
       "      <th>bbox_300</th>\n",
       "    </tr>\n",
       "  </thead>\n",
       "  <tbody>\n",
       "    <tr>\n",
       "      <th>0</th>\n",
       "      <td>/data/xhan/Dropbox/USF MantaRay Data Share/Ima...</td>\n",
       "      <td>/data/xhan/Dropbox/USF MantaRay Data Share/res...</td>\n",
       "      <td>1 1</td>\n",
       "      <td>69 668 150 71 604 1108 71 68</td>\n",
       "      <td>19 116 42 13 168 193 19 12</td>\n",
       "    </tr>\n",
       "    <tr>\n",
       "      <th>1</th>\n",
       "      <td>/data/xhan/Dropbox/USF MantaRay Data Share/Ima...</td>\n",
       "      <td>/data/xhan/Dropbox/USF MantaRay Data Share/res...</td>\n",
       "      <td>1</td>\n",
       "      <td>921 747 52 44</td>\n",
       "      <td>256 130 14 8</td>\n",
       "    </tr>\n",
       "    <tr>\n",
       "      <th>2</th>\n",
       "      <td>/data/xhan/Dropbox/USF MantaRay Data Share/Ima...</td>\n",
       "      <td>/data/xhan/Dropbox/USF MantaRay Data Share/res...</td>\n",
       "      <td>1</td>\n",
       "      <td>737 391 111 179</td>\n",
       "      <td>205 68 30 31</td>\n",
       "    </tr>\n",
       "    <tr>\n",
       "      <th>3</th>\n",
       "      <td>/data/xhan/Dropbox/USF MantaRay Data Share/Ima...</td>\n",
       "      <td>/data/xhan/Dropbox/USF MantaRay Data Share/res...</td>\n",
       "      <td>1</td>\n",
       "      <td>785 1206 50 39</td>\n",
       "      <td>218 210 14 7</td>\n",
       "    </tr>\n",
       "    <tr>\n",
       "      <th>4</th>\n",
       "      <td>/data/xhan/Dropbox/USF MantaRay Data Share/Ima...</td>\n",
       "      <td>/data/xhan/Dropbox/USF MantaRay Data Share/res...</td>\n",
       "      <td>1</td>\n",
       "      <td>558 29 134 56</td>\n",
       "      <td>155 5 37 10</td>\n",
       "    </tr>\n",
       "  </tbody>\n",
       "</table>\n",
       "</div>"
      ],
      "text/plain": [
       "                                             fn_orig  \\\n",
       "0  /data/xhan/Dropbox/USF MantaRay Data Share/Ima...   \n",
       "1  /data/xhan/Dropbox/USF MantaRay Data Share/Ima...   \n",
       "2  /data/xhan/Dropbox/USF MantaRay Data Share/Ima...   \n",
       "3  /data/xhan/Dropbox/USF MantaRay Data Share/Ima...   \n",
       "4  /data/xhan/Dropbox/USF MantaRay Data Share/Ima...   \n",
       "\n",
       "                                              fn_new label  \\\n",
       "0  /data/xhan/Dropbox/USF MantaRay Data Share/res...   1 1   \n",
       "1  /data/xhan/Dropbox/USF MantaRay Data Share/res...     1   \n",
       "2  /data/xhan/Dropbox/USF MantaRay Data Share/res...     1   \n",
       "3  /data/xhan/Dropbox/USF MantaRay Data Share/res...     1   \n",
       "4  /data/xhan/Dropbox/USF MantaRay Data Share/res...     1   \n",
       "\n",
       "                           bbox                    bbox_300  \n",
       "0  69 668 150 71 604 1108 71 68  19 116 42 13 168 193 19 12  \n",
       "1                 921 747 52 44                256 130 14 8  \n",
       "2               737 391 111 179                205 68 30 31  \n",
       "3                785 1206 50 39                218 210 14 7  \n",
       "4                 558 29 134 56                 155 5 37 10  "
      ]
     },
     "execution_count": 8,
     "metadata": {},
     "output_type": "execute_result"
    }
   ],
   "source": [
    "train_bbox_multi_df.head()"
   ]
  },
  {
   "cell_type": "code",
   "execution_count": 9,
   "metadata": {
    "ExecuteTime": {
     "end_time": "2019-05-01T23:43:02.387352Z",
     "start_time": "2019-05-01T23:43:02.343966Z"
    }
   },
   "outputs": [],
   "source": [
    "categories_bb = {0: 'background', 1: 'microfiber'}"
   ]
  },
  {
   "cell_type": "code",
   "execution_count": 10,
   "metadata": {
    "ExecuteTime": {
     "end_time": "2019-05-01T23:43:05.395541Z",
     "start_time": "2019-05-01T23:43:02.391860Z"
    }
   },
   "outputs": [],
   "source": [
    "center_variance = 0.1\n",
    "size_variance = 0.2\n",
    "iou_threshold = 0.1\n",
    "\n",
    "priors = __boxtools__.generate_ssd_priors(specs, image_size=img_size, clip=True)\n",
    "priors = torch.from_numpy(priors).float()\n",
    "if torch.cuda.is_available:\n",
    "    priors = priors.cuda(non_blocking=True)"
   ]
  },
  {
   "cell_type": "code",
   "execution_count": 11,
   "metadata": {
    "ExecuteTime": {
     "end_time": "2019-05-01T23:43:05.425012Z",
     "start_time": "2019-05-01T23:43:05.397671Z"
    }
   },
   "outputs": [],
   "source": [
    "train_transform = TrainTransform(\n",
    "    config.image_size, config.image_mean, config.image_std)\n",
    "val_transform = ValidTransform(\n",
    "    config.image_size, config.image_mean, config.image_std)\n",
    "target_transform = ssd_prior.MatchPrior(priors,\n",
    "                                        config.center_variance,\n",
    "                                        config.size_variance,\n",
    "                                        config.iou_threshold)"
   ]
  },
  {
   "cell_type": "code",
   "execution_count": 25,
   "metadata": {
    "ExecuteTime": {
     "end_time": "2019-05-01T23:45:33.539974Z",
     "start_time": "2019-05-01T23:45:33.496135Z"
    }
   },
   "outputs": [],
   "source": [
    "voc_multibb_train = multiBboxDataset(IMG_PATH, train_bbox_multi_df, transform=None,\n",
    "                                     target_transform=target_transform, \n",
    "                                     sz=img_size)\n",
    "\n",
    "voc_multibb_valid = multiBboxDataset(IMG_PATH, val_bbox_multi_df, transform=None, \n",
    "                                     target_transform=target_transform,\n",
    "                                     sz=img_size)"
   ]
  },
  {
   "cell_type": "code",
   "execution_count": 26,
   "metadata": {
    "ExecuteTime": {
     "end_time": "2019-05-01T23:45:34.451590Z",
     "start_time": "2019-05-01T23:45:34.432197Z"
    }
   },
   "outputs": [],
   "source": [
    "train_dl = DataLoader(voc_multibb_train, batch_size=batch_size, shuffle=True, num_workers=0, pin_memory=False)\n",
    "val_dl = DataLoader(voc_multibb_valid, batch_size=batch_size, num_workers=0, pin_memory=False)"
   ]
  },
  {
   "cell_type": "code",
   "execution_count": 27,
   "metadata": {
    "ExecuteTime": {
     "end_time": "2019-05-01T23:45:35.923615Z",
     "start_time": "2019-05-01T23:45:35.449668Z"
    }
   },
   "outputs": [],
   "source": [
    "X, y_label, y_bb = next(iter(train_dl))"
   ]
  },
  {
   "cell_type": "code",
   "execution_count": 28,
   "metadata": {
    "ExecuteTime": {
     "end_time": "2019-05-01T23:45:36.884504Z",
     "start_time": "2019-05-01T23:45:36.841327Z"
    }
   },
   "outputs": [],
   "source": [
    "torch.cuda.empty_cache()"
   ]
  },
  {
   "cell_type": "code",
   "execution_count": 29,
   "metadata": {
    "ExecuteTime": {
     "end_time": "2019-05-01T23:45:41.707474Z",
     "start_time": "2019-05-01T23:45:41.673724Z"
    }
   },
   "outputs": [
    {
     "data": {
      "text/plain": [
       "tensor([[[  6.7500,  21.6667,  -3.8107,  -9.4856],\n",
       "         [  5.1770,  16.6176,  -5.1373, -10.8122],\n",
       "         [  4.7730,  30.6413,  -5.5436,  -7.7527],\n",
       "         ...,\n",
       "         [ -3.5564,  -0.5394, -11.8017, -17.4766],\n",
       "         [ -3.5167,  -1.0077, -11.8579, -14.3512],\n",
       "         [ -6.6448,  -0.5333,  -8.6763, -17.5328]],\n",
       "\n",
       "        [[ 13.5000,  25.2500,  -2.9892,  -6.0199],\n",
       "         [ 10.3540,  19.3659,  -4.3158,  -7.3464],\n",
       "         [  9.5459,  35.7089,  -4.7221,  -4.2870],\n",
       "         ...,\n",
       "         [ -2.1911,   0.1854, -10.9802, -14.0109],\n",
       "         [ -2.1667,   0.3464, -11.0364, -10.8855],\n",
       "         [ -4.0939,   0.1833,  -7.8548, -14.0671]],\n",
       "\n",
       "        [[ 40.0833,  23.5000,  -3.4657,  -9.4856],\n",
       "         [ 30.7425,  18.0237,  -4.7923, -10.8122],\n",
       "         [ 28.3432,  33.2340,  -5.1986,  -7.7527],\n",
       "         ...,\n",
       "         [  3.1856,  -0.1685, -11.4567, -17.4766],\n",
       "         [  3.1500,  -0.3149, -11.5129, -14.3512],\n",
       "         [  5.9520,  -0.1667,  -8.3313, -17.5328]],\n",
       "\n",
       "        ...,\n",
       "\n",
       "        [[  1.0833,  30.3333,  -5.0165,  -9.4856],\n",
       "         [  0.8309,  23.2646,  -6.3431, -10.8122],\n",
       "         [  0.7660,  42.8978,  -6.7494,  -7.7527],\n",
       "         ...,\n",
       "         [ -4.7025,   1.2136, -13.0075, -17.4766],\n",
       "         [ -4.6500,   2.2674, -13.0637, -14.3512],\n",
       "         [ -8.7862,   1.2000,  -9.8821, -17.5328]],\n",
       "\n",
       "        [[  6.4167,  11.0000,  -6.0199, -10.7422],\n",
       "         [  4.9214,   8.4366,  -7.3464, -12.0687],\n",
       "         [  4.5373,  15.5563,  -7.7527,  -9.0093],\n",
       "         ...,\n",
       "         [ -3.6238,  -2.6968, -14.0109, -18.7332],\n",
       "         [ -3.5833,  -5.0387, -14.0671, -15.6078],\n",
       "         [ -6.7707,  -2.6667, -10.8855, -18.7894]],\n",
       "\n",
       "        [[ 11.5000,   7.6667,  -2.2838, -10.0745],\n",
       "         [  8.8201,   5.8801,  -3.6104, -11.4011],\n",
       "         [  8.1317,  10.8423,  -4.0167,  -8.3416],\n",
       "         ...,\n",
       "         [ -2.5957,  -3.3710, -10.2748, -18.0655],\n",
       "         [ -2.5667,  -6.2984, -10.3310, -14.9401],\n",
       "         [ -4.8497,  -3.3333,  -7.1494, -18.1217]]], device='cuda:2')"
      ]
     },
     "execution_count": 29,
     "metadata": {},
     "output_type": "execute_result"
    }
   ],
   "source": [
    "y_bb"
   ]
  },
  {
   "cell_type": "markdown",
   "metadata": {},
   "source": [
    "# LR finder"
   ]
  },
  {
   "cell_type": "code",
   "execution_count": 30,
   "metadata": {
    "ExecuteTime": {
     "end_time": "2019-05-01T23:45:59.288425Z",
     "start_time": "2019-05-01T23:45:56.705590Z"
    }
   },
   "outputs": [],
   "source": [
    "model = SSDNet(num_classes=2,\n",
    "               im_shape=(config.image_size, config.image_size)).cuda()"
   ]
  },
  {
   "cell_type": "code",
   "execution_count": 31,
   "metadata": {
    "ExecuteTime": {
     "end_time": "2019-05-01T23:46:39.957003Z",
     "start_time": "2019-05-01T23:46:00.267115Z"
    }
   },
   "outputs": [],
   "source": [
    "lrs, losses = LR_range_finder_multibox(model, train_dl, priors, lr_low=1e-6, lr_high=1, epochs=2)"
   ]
  },
  {
   "cell_type": "code",
   "execution_count": 35,
   "metadata": {
    "ExecuteTime": {
     "end_time": "2019-05-01T23:47:04.214967Z",
     "start_time": "2019-05-01T23:47:03.983294Z"
    }
   },
   "outputs": [
    {
     "data": {
      "image/png": "[encoded data removed]",
      "text/plain": [
       "<Figure size 864x360 with 1 Axes>"
      ]
     },
     "metadata": {
      "needs_background": "light"
     },
     "output_type": "display_data"
    }
   ],
   "source": [
    "import matplotlib.pyplot as plt\n",
    "\n",
    "plt.figure(figsize=(12, 5))\n",
    "plt.plot([np.log10(l) for l in lrs][:38], losses[:38])\n",
    "plt.show()"
   ]
  },
  {
   "cell_type": "code",
   "execution_count": null,
   "metadata": {},
   "outputs": [],
   "source": []
  }
 ],
 "metadata": {
  "kernelspec": {
   "display_name": "Python 3",
   "language": "python",
   "name": "python3"
  },
  "language_info": {
   "codemirror_mode": {
    "name": "ipython",
    "version": 3
   },
   "file_extension": ".py",
   "mimetype": "text/x-python",
   "name": "python",
   "nbconvert_exporter": "python",
   "pygments_lexer": "ipython3",
   "version": "3.7.1"
  },
  "toc": {
   "base_numbering": 1,
   "nav_menu": {},
   "number_sections": true,
   "sideBar": true,
   "skip_h1_title": false,
   "title_cell": "Table of Contents",
   "title_sidebar": "Contents",
   "toc_cell": false,
   "toc_position": {},
   "toc_section_display": true,
   "toc_window_display": false
  },
  "varInspector": {
   "cols": {
    "lenName": 16,
    "lenType": 16,
    "lenVar": 40
   },
   "kernels_config": {
    "python": {
     "delete_cmd_postfix": "",
     "delete_cmd_prefix": "del ",
     "library": "var_list.py",
     "varRefreshCmd": "print(var_dic_list())"
    },
    "r": {
     "delete_cmd_postfix": ") ",
     "delete_cmd_prefix": "rm(",
     "library": "var_list.r",
     "varRefreshCmd": "cat(var_dic_list()) "
    }
   },
   "types_to_exclude": [
    "module",
    "function",
    "builtin_function_or_method",
    "instance",
    "_Feature"
   ],
   "window_display": false
  }
 },
 "nbformat": 4,
 "nbformat_minor": 2
}
