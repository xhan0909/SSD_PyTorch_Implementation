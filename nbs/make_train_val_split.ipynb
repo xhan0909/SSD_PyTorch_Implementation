{
 "cells": [
  {
   "cell_type": "code",
   "execution_count": 1,
   "metadata": {
    "ExecuteTime": {
     "end_time": "2019-06-10T20:11:45.191983Z",
     "start_time": "2019-06-10T20:11:45.106105Z"
    }
   },
   "outputs": [],
   "source": [
    "import os\n",
    "import glob\n",
    "import numpy as np\n",
    "from pathlib import Path"
   ]
  },
  {
   "cell_type": "code",
   "execution_count": 2,
   "metadata": {
    "ExecuteTime": {
     "end_time": "2019-06-10T17:03:39.009260Z",
     "start_time": "2019-06-10T17:03:39.006206Z"
    }
   },
   "outputs": [],
   "source": [
    "p = Path('/data/xhan/Dropbox/USF MantaRay Data Share/Image Training Data')"
   ]
  },
  {
   "cell_type": "code",
   "execution_count": 4,
   "metadata": {
    "ExecuteTime": {
     "end_time": "2019-06-10T20:12:21.427645Z",
     "start_time": "2019-06-10T20:12:21.421900Z"
    }
   },
   "outputs": [
    {
     "data": {
      "text/plain": [
       "PosixPath('/data/xhan/Dropbox/USF MantaRay Data Share/Image Training Data/train_512.json')"
      ]
     },
     "execution_count": 4,
     "metadata": {},
     "output_type": "execute_result"
    }
   ],
   "source": [
    "Path('/data/xhan/Dropbox/USF MantaRay Data Share/Image Training Data')/f'train_{512}.json'"
   ]
  },
  {
   "cell_type": "code",
   "execution_count": 3,
   "metadata": {
    "ExecuteTime": {
     "end_time": "2019-06-10T17:03:44.145714Z",
     "start_time": "2019-06-10T17:03:44.125549Z"
    }
   },
   "outputs": [],
   "source": [
    "img_list, test_list = [], []\n",
    "for fname in p.glob('*/Microfibers/*.jp*'): # we have both .jpg and .jpeg\n",
    "    if 'Fall Testing Samples' not in str(fname):\n",
    "        img_list.append(str(fname))\n",
    "    else:\n",
    "        test_list.append(str(fname))"
   ]
  },
  {
   "cell_type": "code",
   "execution_count": 6,
   "metadata": {
    "ExecuteTime": {
     "end_time": "2019-06-10T17:04:51.446733Z",
     "start_time": "2019-06-10T17:04:51.438580Z"
    }
   },
   "outputs": [],
   "source": [
    "with open('all_images.txt', 'w+') as f:\n",
    "    for path in img_list:\n",
    "        f.write(path)\n",
    "        f.write('\\n')"
   ]
  },
  {
   "cell_type": "code",
   "execution_count": 4,
   "metadata": {
    "ExecuteTime": {
     "end_time": "2019-05-29T00:20:53.115041Z",
     "start_time": "2019-05-29T00:20:53.110350Z"
    }
   },
   "outputs": [],
   "source": [
    "img_list = np.array(img_list)\n",
    "test_list = np.array(test_list)"
   ]
  },
  {
   "cell_type": "code",
   "execution_count": 5,
   "metadata": {
    "ExecuteTime": {
     "end_time": "2019-05-29T00:20:55.888467Z",
     "start_time": "2019-05-29T00:20:55.876653Z"
    }
   },
   "outputs": [
    {
     "data": {
      "text/plain": [
       "((782,), (220,))"
      ]
     },
     "execution_count": 5,
     "metadata": {},
     "output_type": "execute_result"
    }
   ],
   "source": [
    "img_list.shape, test_list.shape"
   ]
  },
  {
   "cell_type": "code",
   "execution_count": 10,
   "metadata": {
    "ExecuteTime": {
     "end_time": "2019-05-29T00:21:16.773851Z",
     "start_time": "2019-05-29T00:21:16.769928Z"
    },
    "scrolled": false
   },
   "outputs": [],
   "source": [
    "train_idx = np.random.choice(range(img_list.shape[0]), size=int(img_list.shape[0]*0.9), replace=False)"
   ]
  },
  {
   "cell_type": "code",
   "execution_count": 11,
   "metadata": {
    "ExecuteTime": {
     "end_time": "2019-05-29T00:21:17.208599Z",
     "start_time": "2019-05-29T00:21:17.202447Z"
    }
   },
   "outputs": [
    {
     "data": {
      "text/plain": [
       "(703,)"
      ]
     },
     "execution_count": 11,
     "metadata": {},
     "output_type": "execute_result"
    }
   ],
   "source": [
    "np.unique(train_idx).shape"
   ]
  },
  {
   "cell_type": "code",
   "execution_count": 12,
   "metadata": {
    "ExecuteTime": {
     "end_time": "2019-05-29T00:21:18.907911Z",
     "start_time": "2019-05-29T00:21:18.903287Z"
    }
   },
   "outputs": [],
   "source": [
    "mask = np.zeros_like(img_list, dtype=bool)\n",
    "mask[train_idx] = True\n",
    "train_list = img_list[mask]\n",
    "val_list = img_list[~mask]"
   ]
  },
  {
   "cell_type": "code",
   "execution_count": 13,
   "metadata": {
    "ExecuteTime": {
     "end_time": "2019-05-29T00:21:26.949690Z",
     "start_time": "2019-05-29T00:21:26.946041Z"
    }
   },
   "outputs": [
    {
     "data": {
      "text/plain": [
       "((703,), (79,))"
      ]
     },
     "execution_count": 13,
     "metadata": {},
     "output_type": "execute_result"
    }
   ],
   "source": [
    "train_list.shape, val_list.shape"
   ]
  },
  {
   "cell_type": "code",
   "execution_count": 14,
   "metadata": {
    "ExecuteTime": {
     "end_time": "2019-05-29T00:21:33.049926Z",
     "start_time": "2019-05-29T00:21:33.045146Z"
    }
   },
   "outputs": [],
   "source": [
    "train_list.tofile('./train.txt', sep='\\n')\n",
    "val_list.tofile('./valid.txt', sep='\\n')\n",
    "test_list.tofile('./test.txt', sep='\\n')"
   ]
  },
  {
   "cell_type": "code",
   "execution_count": null,
   "metadata": {},
   "outputs": [],
   "source": []
  }
 ],
 "metadata": {
  "kernelspec": {
   "display_name": "Python 3",
   "language": "python",
   "name": "python3"
  },
  "language_info": {
   "codemirror_mode": {
    "name": "ipython",
    "version": 3
   },
   "file_extension": ".py",
   "mimetype": "text/x-python",
   "name": "python",
   "nbconvert_exporter": "python",
   "pygments_lexer": "ipython3",
   "version": "3.7.3"
  },
  "toc": {
   "base_numbering": 1,
   "nav_menu": {},
   "number_sections": true,
   "sideBar": true,
   "skip_h1_title": false,
   "title_cell": "Table of Contents",
   "title_sidebar": "Contents",
   "toc_cell": false,
   "toc_position": {},
   "toc_section_display": true,
   "toc_window_display": false
  },
  "varInspector": {
   "cols": {
    "lenName": 16,
    "lenType": 16,
    "lenVar": 40
   },
   "kernels_config": {
    "python": {
     "delete_cmd_postfix": "",
     "delete_cmd_prefix": "del ",
     "library": "var_list.py",
     "varRefreshCmd": "print(var_dic_list())"
    },
    "r": {
     "delete_cmd_postfix": ") ",
     "delete_cmd_prefix": "rm(",
     "library": "var_list.r",
     "varRefreshCmd": "cat(var_dic_list()) "
    }
   },
   "types_to_exclude": [
    "module",
    "function",
    "builtin_function_or_method",
    "instance",
    "_Feature"
   ],
   "window_display": false
  }
 },
 "nbformat": 4,
 "nbformat_minor": 2
}
