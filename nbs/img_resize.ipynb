{
 "cells": [
  {
   "cell_type": "code",
   "execution_count": 1,
   "metadata": {
    "ExecuteTime": {
     "end_time": "2019-06-10T17:40:06.533814Z",
     "start_time": "2019-06-10T17:40:06.131571Z"
    }
   },
   "outputs": [],
   "source": [
    "import cv2\n",
    "from pathlib import Path\n",
    "import numpy as np\n",
    "import pandas as pd\n",
    "from tqdm import tqdm\n",
    "import matplotlib.pyplot as plt\n",
    "from matplotlib import patches, patheffects"
   ]
  },
  {
   "cell_type": "markdown",
   "metadata": {
    "deletable": false,
    "editable": false,
    "run_control": {
     "frozen": true
    }
   },
   "source": [
    "# Resize images"
   ]
  },
  {
   "cell_type": "code",
   "execution_count": 2,
   "metadata": {
    "ExecuteTime": {
     "end_time": "2019-06-10T17:40:07.394878Z",
     "start_time": "2019-06-10T17:40:07.391050Z"
    },
    "deletable": false,
    "editable": false,
    "run_control": {
     "frozen": true
    }
   },
   "outputs": [],
   "source": [
    "IMG_PATH = Path('../VOCdevkit/VOC2007/JPEGImages')\n",
    "NEW_PATH = Path('../VOCdevkit/VOC2007/JPEGImages_300_300')"
   ]
  },
  {
   "cell_type": "code",
   "execution_count": null,
   "metadata": {
    "ExecuteTime": {
     "end_time": "2019-06-10T17:40:07.990428Z",
     "start_time": "2019-06-10T17:40:07.877114Z"
    },
    "deletable": false,
    "editable": false,
    "run_control": {
     "frozen": true
    }
   },
   "outputs": [],
   "source": [
    "str(list(IMG_PATH.iterdir())[0]).split('/')[-1]"
   ]
  },
  {
   "cell_type": "code",
   "execution_count": null,
   "metadata": {
    "ExecuteTime": {
     "end_time": "2019-04-03T22:33:18.473556Z",
     "start_time": "2019-04-03T22:33:18.466246Z"
    },
    "deletable": false,
    "editable": false,
    "run_control": {
     "frozen": true
    }
   },
   "outputs": [],
   "source": [
    "def resize_img_and_write(size=300):\n",
    "    for path in tqdm(list(IMG_PATH.iterdir())):\n",
    "        img = cv2.imread(str(path))\n",
    "        x_resized = cv2.resize(img, (size, size))\n",
    "        fname = str(path).split('/')[-1]\n",
    "        cv2.imwrite(str(NEW_PATH/fname), x_resized)"
   ]
  },
  {
   "cell_type": "code",
   "execution_count": null,
   "metadata": {
    "ExecuteTime": {
     "end_time": "2019-03-18T01:00:33.930110Z",
     "start_time": "2019-03-18T01:00:21.048889Z"
    },
    "deletable": false,
    "editable": false,
    "run_control": {
     "frozen": true
    }
   },
   "outputs": [],
   "source": [
    "resize_img_and_write()"
   ]
  },
  {
   "cell_type": "markdown",
   "metadata": {},
   "source": [
    "# Resize bboxes"
   ]
  },
  {
   "cell_type": "code",
   "execution_count": 4,
   "metadata": {
    "ExecuteTime": {
     "end_time": "2019-06-10T17:40:19.476247Z",
     "start_time": "2019-06-10T17:40:19.451005Z"
    }
   },
   "outputs": [],
   "source": [
    "def make_bb_px(y, x_shape):\n",
    "    \"\"\"Makes an image of size x rectangular bounding box (hw format)\"\"\"\n",
    "    Y = np.zeros(x_shape)\n",
    "    y = hw_bb_numpy(y).astype(np.int)\n",
    "    y = np.array(list(map(lambda x: x if x > 0 else 0, y)))  # clip to 0\n",
    "    Y[y[0]:y[2], y[1]:y[3]] = 1.\n",
    "    return Y\n",
    "\n",
    "\n",
    "def to_bb(Y):\n",
    "    \"\"\"\n",
    "    Convert mask Y to a corner format bounding box\n",
    "    Assumes 0 as background nonzero object\n",
    "    \"\"\"\n",
    "    cols, rows = np.nonzero(Y)\n",
    "    if len(cols) == 0:\n",
    "        return np.zeros(4, dtype=np.float32)\n",
    "    top_row = np.min(rows)\n",
    "    left_col = np.min(cols)\n",
    "    bottom_row = np.max(rows)\n",
    "    right_col = np.max(cols)\n",
    "    return np.array([left_col, top_row, right_col, bottom_row],\n",
    "                    dtype=np.float32)\n",
    "\n",
    "\n",
    "def hw_bb_numpy(bb):\n",
    "    if len(bb.shape) == 1:\n",
    "        return np.array([bb[1], bb[0], bb[3] + bb[1] - 1, bb[2] + bb[0] - 1])\n",
    "    else:\n",
    "        return np.array([bb[..., 1],\n",
    "                         bb[..., 0],\n",
    "                         bb[..., 3] + bb[..., 1] - 1,\n",
    "                         bb[..., 2] + bb[..., 0] - 1])\n",
    "    \n",
    "\n",
    "def bb_hw_numpy(bb: np.array) -> np.array:\n",
    "    \"\"\"Transform from corner format to width-height format.\n",
    "    (Numpy version)\n",
    "\n",
    "    width-height: [X, Y, width, height]\n",
    "    corner format: [Y_0, X_0, Y_right_bottom, X_right_bottom]\n",
    "    \"\"\"\n",
    "    if len(bb.shape) == 1:\n",
    "        return np.array([bb[1], bb[0], bb[3] - bb[1] + 1, bb[2] - bb[0] + 1])\n",
    "    else:\n",
    "        return np.array([bb[..., 1],\n",
    "                         bb[..., 0],\n",
    "                         bb[..., 3] - bb[..., 1] + 1,\n",
    "                         bb[..., 2] - bb[..., 0] + 1], dtype=np.float32)"
   ]
  },
  {
   "cell_type": "code",
   "execution_count": 5,
   "metadata": {
    "ExecuteTime": {
     "end_time": "2019-06-10T17:40:20.409268Z",
     "start_time": "2019-06-10T17:40:20.384231Z"
    }
   },
   "outputs": [],
   "source": [
    "PATH = Path('/data/xhan/Dropbox/resized_512/')\n",
    "train_bbox_df = pd.read_csv('../data/train_anno.csv')\n",
    "val_bbox_df = pd.read_csv('../data/val_anno.csv')"
   ]
  },
  {
   "cell_type": "code",
   "execution_count": 6,
   "metadata": {
    "ExecuteTime": {
     "end_time": "2019-06-10T17:40:23.584634Z",
     "start_time": "2019-06-10T17:40:23.579372Z"
    }
   },
   "outputs": [],
   "source": [
    "# resize bounding boxes accordingly\n",
    "def resize_bbox(orig_shape, bbox, target_size):\n",
    "    \"\"\"Resize bounding boxes accordingly.\n",
    "\n",
    "    :param orig_shape: shape of original image\n",
    "    :param bbox: bounding boxes\n",
    "    :param target_size: size of the resized image\n",
    "    :return: new boxes (corner format)\n",
    "    \"\"\"\n",
    "    Y = make_bb_px(bbox, orig_shape)\n",
    "    y_resize = cv2.resize(Y, target_size)\n",
    "    y = to_bb(y_resize)\n",
    "    y[0], y[2] = (np.clip(y[0], 0, target_size[0]),\n",
    "                  np.clip(y[2], 0, target_size[0]))\n",
    "    y[1], y[3] = (np.clip(y[1], 0, target_size[1]),\n",
    "                  np.clip(y[3], 0, target_size[1]))\n",
    "    return y"
   ]
  },
  {
   "cell_type": "code",
   "execution_count": 7,
   "metadata": {
    "ExecuteTime": {
     "end_time": "2019-06-10T17:40:25.831817Z",
     "start_time": "2019-06-10T17:40:25.819392Z"
    }
   },
   "outputs": [],
   "source": [
    "def resize_annotation_bbox(df, target_size):\n",
    "    \"\"\"Generate new annotation data frame with resized image path\n",
    "    and new bounding boxes' coordinates.\n",
    "\n",
    "    :param df: annotation data frame\n",
    "    \"\"\"\n",
    "    target_size = int(target_size)\n",
    "    y_new = []\n",
    "    for i, bbox in enumerate(df['bbox']):\n",
    "        path = df['fn_orig'][i]\n",
    "        # the original microfiber images has different sizes\n",
    "        img = cv2.imread(str(path))\n",
    "        r, c, _ = img.shape  # original img size\n",
    "        y = np.array([int(b) for b in bbox.split()])\n",
    "        if len(y) == 4:\n",
    "            new_bb = resize_bbox((r, c), y, (target_size, target_size))\n",
    "            y_new.append(' '.join([str(int(n)) for n in new_bb]))\n",
    "        elif len(y) > 4:\n",
    "            temp_bbs = []\n",
    "            for j in range(int(len(y) / 4)):\n",
    "                resized_bb = resize_bbox((r, c), y[j * 4:(j * 4 + 4)],\n",
    "                                         (target_size, target_size))\n",
    "                resized_bb = ' '.join([str(int(n)) for n in resized_bb])\n",
    "                temp_bbs.append(resized_bb)\n",
    "            y_new.append(' '.join(temp_bbs))\n",
    "\n",
    "    df['bbox_300'] = y_new\n",
    "    return y_new"
   ]
  },
  {
   "cell_type": "code",
   "execution_count": 8,
   "metadata": {
    "ExecuteTime": {
     "end_time": "2019-06-10T17:40:31.819448Z",
     "start_time": "2019-06-10T17:40:26.665615Z"
    }
   },
   "outputs": [],
   "source": [
    "y_new = resize_annotation_bbox(train_bbox_df, 512)"
   ]
  },
  {
   "cell_type": "code",
   "execution_count": 9,
   "metadata": {
    "ExecuteTime": {
     "end_time": "2019-06-10T17:40:32.502964Z",
     "start_time": "2019-06-10T17:40:32.476303Z"
    }
   },
   "outputs": [
    {
     "data": {
      "text/html": [
       "<div>\n",
       "<style scoped>\n",
       "    .dataframe tbody tr th:only-of-type {\n",
       "        vertical-align: middle;\n",
       "    }\n",
       "\n",
       "    .dataframe tbody tr th {\n",
       "        vertical-align: top;\n",
       "    }\n",
       "\n",
       "    .dataframe thead th {\n",
       "        text-align: right;\n",
       "    }\n",
       "</style>\n",
       "<table border=\"1\" class=\"dataframe\">\n",
       "  <thead>\n",
       "    <tr style=\"text-align: right;\">\n",
       "      <th></th>\n",
       "      <th>fn_orig</th>\n",
       "      <th>fn_new</th>\n",
       "      <th>label</th>\n",
       "      <th>bbox</th>\n",
       "      <th>bbox_300</th>\n",
       "    </tr>\n",
       "  </thead>\n",
       "  <tbody>\n",
       "    <tr>\n",
       "      <th>0</th>\n",
       "      <td>/data/xhan/Dropbox/USF MantaRay Data Share/Ima...</td>\n",
       "      <td>/data/xhan/Dropbox/resized_512/23213.jpeg</td>\n",
       "      <td>1 1</td>\n",
       "      <td>69 668 150 71 604 1108 71 68</td>\n",
       "      <td>199 32 219 103 330 286 349 319</td>\n",
       "    </tr>\n",
       "    <tr>\n",
       "      <th>1</th>\n",
       "      <td>/data/xhan/Dropbox/USF MantaRay Data Share/Ima...</td>\n",
       "      <td>/data/xhan/Dropbox/resized_512/18543.jpeg</td>\n",
       "      <td>1</td>\n",
       "      <td>921 747 52 44</td>\n",
       "      <td>222 436 234 460</td>\n",
       "    </tr>\n",
       "    <tr>\n",
       "      <th>2</th>\n",
       "      <td>/data/xhan/Dropbox/USF MantaRay Data Share/Ima...</td>\n",
       "      <td>/data/xhan/Dropbox/resized_512/17841.jpeg</td>\n",
       "      <td>1</td>\n",
       "      <td>737 391 111 179</td>\n",
       "      <td>116 349 169 401</td>\n",
       "    </tr>\n",
       "    <tr>\n",
       "      <th>3</th>\n",
       "      <td>/data/xhan/Dropbox/USF MantaRay Data Share/Ima...</td>\n",
       "      <td>/data/xhan/Dropbox/resized_512/28499.jpeg</td>\n",
       "      <td>1</td>\n",
       "      <td>785 1206 50 39</td>\n",
       "      <td>359 372 369 395</td>\n",
       "    </tr>\n",
       "    <tr>\n",
       "      <th>4</th>\n",
       "      <td>/data/xhan/Dropbox/USF MantaRay Data Share/Ima...</td>\n",
       "      <td>/data/xhan/Dropbox/resized_512/8079.jpeg</td>\n",
       "      <td>1</td>\n",
       "      <td>558 29 134 56</td>\n",
       "      <td>8 264 24 327</td>\n",
       "    </tr>\n",
       "    <tr>\n",
       "      <th>5</th>\n",
       "      <td>/data/xhan/Dropbox/USF MantaRay Data Share/Ima...</td>\n",
       "      <td>/data/xhan/Dropbox/resized_512/18129.jpeg</td>\n",
       "      <td>1</td>\n",
       "      <td>248 585 46 58</td>\n",
       "      <td>174 117 190 138</td>\n",
       "    </tr>\n",
       "    <tr>\n",
       "      <th>6</th>\n",
       "      <td>/data/xhan/Dropbox/USF MantaRay Data Share/Ima...</td>\n",
       "      <td>/data/xhan/Dropbox/resized_512/31581.jpeg</td>\n",
       "      <td>1 1</td>\n",
       "      <td>385 1508 69 35 944 1333 39 41</td>\n",
       "      <td>449 182 458 214 397 447 408 465</td>\n",
       "    </tr>\n",
       "    <tr>\n",
       "      <th>7</th>\n",
       "      <td>/data/xhan/Dropbox/USF MantaRay Data Share/Ima...</td>\n",
       "      <td>/data/xhan/Dropbox/resized_512/14003.jpeg</td>\n",
       "      <td>1</td>\n",
       "      <td>244 439 48 96</td>\n",
       "      <td>131 115 158 137</td>\n",
       "    </tr>\n",
       "    <tr>\n",
       "      <th>8</th>\n",
       "      <td>/data/xhan/Dropbox/USF MantaRay Data Share/Ima...</td>\n",
       "      <td>/data/xhan/Dropbox/resized_512/28024.jpeg</td>\n",
       "      <td>1</td>\n",
       "      <td>806 1491 106 38</td>\n",
       "      <td>444 382 454 431</td>\n",
       "    </tr>\n",
       "    <tr>\n",
       "      <th>9</th>\n",
       "      <td>/data/xhan/Dropbox/USF MantaRay Data Share/Ima...</td>\n",
       "      <td>/data/xhan/Dropbox/resized_512/14182.jpeg</td>\n",
       "      <td>1</td>\n",
       "      <td>171 362 66 52</td>\n",
       "      <td>108 81 122 111</td>\n",
       "    </tr>\n",
       "  </tbody>\n",
       "</table>\n",
       "</div>"
      ],
      "text/plain": [
       "                                             fn_orig  \\\n",
       "0  /data/xhan/Dropbox/USF MantaRay Data Share/Ima...   \n",
       "1  /data/xhan/Dropbox/USF MantaRay Data Share/Ima...   \n",
       "2  /data/xhan/Dropbox/USF MantaRay Data Share/Ima...   \n",
       "3  /data/xhan/Dropbox/USF MantaRay Data Share/Ima...   \n",
       "4  /data/xhan/Dropbox/USF MantaRay Data Share/Ima...   \n",
       "5  /data/xhan/Dropbox/USF MantaRay Data Share/Ima...   \n",
       "6  /data/xhan/Dropbox/USF MantaRay Data Share/Ima...   \n",
       "7  /data/xhan/Dropbox/USF MantaRay Data Share/Ima...   \n",
       "8  /data/xhan/Dropbox/USF MantaRay Data Share/Ima...   \n",
       "9  /data/xhan/Dropbox/USF MantaRay Data Share/Ima...   \n",
       "\n",
       "                                      fn_new label  \\\n",
       "0  /data/xhan/Dropbox/resized_512/23213.jpeg   1 1   \n",
       "1  /data/xhan/Dropbox/resized_512/18543.jpeg     1   \n",
       "2  /data/xhan/Dropbox/resized_512/17841.jpeg     1   \n",
       "3  /data/xhan/Dropbox/resized_512/28499.jpeg     1   \n",
       "4   /data/xhan/Dropbox/resized_512/8079.jpeg     1   \n",
       "5  /data/xhan/Dropbox/resized_512/18129.jpeg     1   \n",
       "6  /data/xhan/Dropbox/resized_512/31581.jpeg   1 1   \n",
       "7  /data/xhan/Dropbox/resized_512/14003.jpeg     1   \n",
       "8  /data/xhan/Dropbox/resized_512/28024.jpeg     1   \n",
       "9  /data/xhan/Dropbox/resized_512/14182.jpeg     1   \n",
       "\n",
       "                            bbox                         bbox_300  \n",
       "0   69 668 150 71 604 1108 71 68   199 32 219 103 330 286 349 319  \n",
       "1                  921 747 52 44                  222 436 234 460  \n",
       "2                737 391 111 179                  116 349 169 401  \n",
       "3                 785 1206 50 39                  359 372 369 395  \n",
       "4                  558 29 134 56                     8 264 24 327  \n",
       "5                  248 585 46 58                  174 117 190 138  \n",
       "6  385 1508 69 35 944 1333 39 41  449 182 458 214 397 447 408 465  \n",
       "7                  244 439 48 96                  131 115 158 137  \n",
       "8                806 1491 106 38                  444 382 454 431  \n",
       "9                  171 362 66 52                   108 81 122 111  "
      ]
     },
     "execution_count": 9,
     "metadata": {},
     "output_type": "execute_result"
    }
   ],
   "source": [
    "train_bbox_df.head(10)"
   ]
  },
  {
   "cell_type": "code",
   "execution_count": null,
   "metadata": {
    "ExecuteTime": {
     "end_time": "2019-03-18T00:17:14.075904Z",
     "start_time": "2019-03-18T00:17:14.027884Z"
    },
    "deletable": false,
    "editable": false,
    "run_control": {
     "frozen": true
    },
    "scrolled": false
   },
   "outputs": [],
   "source": [
    "train_bbox_df.to_csv(PATH/'tmp/train_bbox_multi.csv', index=False)\n",
    "val_bbox_df.to_csv(PATH/'tmp/val_bbox_multi.csv', index=False)"
   ]
  },
  {
   "cell_type": "code",
   "execution_count": 10,
   "metadata": {
    "ExecuteTime": {
     "end_time": "2019-06-10T17:40:38.993439Z",
     "start_time": "2019-06-10T17:40:38.958346Z"
    }
   },
   "outputs": [],
   "source": [
    "def bounding_box(bb):\n",
    "    \"\"\"switch x/y coords to be consistent with numpy, convert height/width into top-left/bottom-right\"\"\"\n",
    "    return np.array([bb[1], bb[0], bb[3]+bb[1]-1, bb[2]+bb[0]-1])\n",
    "\n",
    "# open image\n",
    "def load_image(img_path):\n",
    "    img = cv2.imread(str(img_path)).astype(np.float32)/255\n",
    "    img_rgb = cv2.cvtColor(img, cv2.COLOR_BGR2RGB)\n",
    "    return img_rgb\n",
    "\n",
    "def show_img(im, figsize=None, ax=None):\n",
    "    if not ax:\n",
    "        fig, ax = plt.subplots(figsize=figsize)\n",
    "    ax.imshow(im)\n",
    "    ax.get_xaxis().set_visible(True)\n",
    "    ax.get_yaxis().set_visible(True)\n",
    "    return ax\n",
    "\n",
    "\n",
    "def draw_outline(plt_object, lw):\n",
    "    plt_object.set_path_effects([patheffects.Stroke(\n",
    "        linewidth=lw, foreground='black'), patheffects.Normal()])\n",
    "\n",
    "\n",
    "def draw_rect(ax, b):\n",
    "    patch = ax.add_patch(patches.Rectangle(\n",
    "        b[:2], *b[-2:], fill=False, edgecolor='white', lw=2))\n",
    "    draw_outline(patch, 4)\n",
    "\n",
    "\n",
    "def draw_text(ax, xy, txt, font_sz=14):\n",
    "    text = ax.text(*xy, txt,\n",
    "                   verticalalignment='top', color='white', fontsize=font_sz, weight='bold')\n",
    "    draw_outline(text, 1)"
   ]
  },
  {
   "cell_type": "code",
   "execution_count": 11,
   "metadata": {
    "ExecuteTime": {
     "end_time": "2019-06-10T17:40:39.665076Z",
     "start_time": "2019-06-10T17:40:39.658958Z"
    }
   },
   "outputs": [],
   "source": [
    "category = {0: 'background', 1: 'microfiber'}"
   ]
  },
  {
   "cell_type": "code",
   "execution_count": 20,
   "metadata": {
    "ExecuteTime": {
     "end_time": "2019-06-10T17:43:07.210445Z",
     "start_time": "2019-06-10T17:43:06.873704Z"
    }
   },
   "outputs": [
    {
     "name": "stdout",
     "output_type": "stream",
     "text": [
      "/data/xhan/Dropbox/resized_512/3262.jpeg\n",
      "Bounding box:\n",
      "X: 489\n",
      "Y: 221\n",
      "Width: 13\n",
      "Height: 53\n",
      "microfiber\n"
     ]
    },
    {
     "data": {
      "image/png": "[encoded data removed]",
      "text/plain": [
       "<Figure size 864x864 with 1 Axes>"
      ]
     },
     "metadata": {
      "needs_background": "light"
     },
     "output_type": "display_data"
    }
   ],
   "source": [
    "idx = np.random.randint(0, len(train_bbox_df), 1)\n",
    "sample = train_bbox_df.iloc[idx, :]\n",
    "\n",
    "img_path = '/'+'/'.join(sample['fn_new'].values[0].split('/')[1:])\n",
    "print(img_path)\n",
    "boxes = [int(c) for c in sample['bbox_300'].values[0].split()]\n",
    "img = load_image(img_path)\n",
    "labels = [int(lab) for lab in sample['label'].values[0].split()]\n",
    "ax = show_img(img, figsize=(12, 12))\n",
    "\n",
    "for i in range(int(len(boxes)/4)):\n",
    "    b = bb_hw_numpy(np.array(boxes[i*4:(i*4+4)]))\n",
    "    print(f'Bounding box:\\nX: {b[0]}\\nY: {b[1]}\\nWidth: {b[2]}\\nHeight: {b[3]}')\n",
    "    draw_rect(ax, b)\n",
    "    text = category[labels[i]]\n",
    "    print(text)\n",
    "    draw_text(ax, b[:2]-10, text)"
   ]
  },
  {
   "cell_type": "code",
   "execution_count": null,
   "metadata": {},
   "outputs": [],
   "source": []
  }
 ],
 "metadata": {
  "kernelspec": {
   "display_name": "Python 3",
   "language": "python",
   "name": "python3"
  },
  "language_info": {
   "codemirror_mode": {
    "name": "ipython",
    "version": 3
   },
   "file_extension": ".py",
   "mimetype": "text/x-python",
   "name": "python",
   "nbconvert_exporter": "python",
   "pygments_lexer": "ipython3",
   "version": "3.7.3"
  },
  "toc": {
   "base_numbering": 1,
   "nav_menu": {},
   "number_sections": true,
   "sideBar": true,
   "skip_h1_title": false,
   "title_cell": "Table of Contents",
   "title_sidebar": "Contents",
   "toc_cell": false,
   "toc_position": {},
   "toc_section_display": true,
   "toc_window_display": false
  },
  "varInspector": {
   "cols": {
    "lenName": 16,
    "lenType": 16,
    "lenVar": 40
   },
   "kernels_config": {
    "python": {
     "delete_cmd_postfix": "",
     "delete_cmd_prefix": "del ",
     "library": "var_list.py",
     "varRefreshCmd": "print(var_dic_list())"
    },
    "r": {
     "delete_cmd_postfix": ") ",
     "delete_cmd_prefix": "rm(",
     "library": "var_list.r",
     "varRefreshCmd": "cat(var_dic_list()) "
    }
   },
   "types_to_exclude": [
    "module",
    "function",
    "builtin_function_or_method",
    "instance",
    "_Feature"
   ],
   "window_display": false
  }
 },
 "nbformat": 4,
 "nbformat_minor": 2
}
